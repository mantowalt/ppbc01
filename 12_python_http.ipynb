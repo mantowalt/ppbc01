{
 "cells": [
  {
   "attachments": {},
   "cell_type": "markdown",
   "metadata": {},
   "source": [
    "# Modulo di terze parti `requests`: effettuare HTTP requests"
   ]
  },
  {
   "attachments": {},
   "cell_type": "markdown",
   "metadata": {},
   "source": [
    "Questa è un'introduzione a `requests`, un'elegante e semplice libreria HTTP per Python.\n",
    "\n",
    "L'Hypertext Transfer Protocol (HTTP) è probabilmente il protocollo per il trasferimento dati più diffuso su Internet. Consente la comunicazione tra il client (solitamente un browser web) e il server HTTP (server web) mediante l'invio di messaggi di testo: il client invia un messaggio di richiesta al server che, a sua volta, restituisce un messaggio di risposta."
   ]
  },
  {
   "attachments": {},
   "cell_type": "markdown",
   "metadata": {},
   "source": [
    "### Info e installazione di `requests`\n",
    "\n",
    "- [Sito e documentazione ufficiale](https://requests.readthedocs.io/projects/it/it/latest/index.html).\n",
    "- [Pagina su PyPi](https://pypi.org/project/requests/) (Python Package Index).\n",
    "- [Repo su GitHub](https://github.com/psf/requests).\n",
    "\n",
    "Python `requests` consente di inviare tutti i tipi di richieste e di ottenere le relative risposte in modo semplice e intuitivo.\n",
    "\n",
    "Questa è una libreria di terze parti e dunque non fa parte della Libreria standard. È necessario installarla tramite il comando `pip install requests` nella riga di comando."
   ]
  },
  {
   "attachments": {},
   "cell_type": "markdown",
   "metadata": {},
   "source": [
    "```bash\n",
    "# MAC/LINUX:\n",
    "(my_venv) $ pip install requests\n",
    "\n",
    "# WINDOWS:\n",
    "(my_venv) C:\\my_proj> pip install requests\n",
    "```"
   ]
  },
  {
   "attachments": {},
   "cell_type": "markdown",
   "metadata": {},
   "source": [
    "\n",
    "Se sei su Windows, non hai creato un virtual environment (male!;) e devi usare il `py` launcher:\n",
    "\n",
    "```powershell\n",
    "C:\\my_proj> py -m pip install requests\n",
    "```"
   ]
  },
  {
   "attachments": {},
   "cell_type": "markdown",
   "metadata": {},
   "source": [
    "Per iniziare a usare requests nel vostro codice, importate la libreria:\n",
    "\n",
    "```python\n",
    "import requests\n",
    "```"
   ]
  },
  {
   "attachments": {},
   "cell_type": "markdown",
   "metadata": {},
   "source": [
    "### Invio e recezione dei dati\n",
    "\n",
    "Come detto, il protocollo HTTP prevede una serie di [messaggi di richiesta](https://it.wikipedia.org/wiki/Hypertext_Transfer_Protocol#Messaggio_di_richiesta) che il client può inviare al server. In particolare i più noti sono\n",
    "\n",
    "- GET\n",
    "- POST\n",
    "- PUT\n",
    "- DELETE\n",
    "\n",
    "La richiesta GET è usata per recuperare informazioni da un determinato server usando un URL. Per esempio, ogni volta che si inserisce un URL nella casella degli indirizzi del browser, questo lo traduce in un messaggio di richiesta GET e lo invia al server.\n",
    "\n",
    "Il più delle volte navighiamo sul web recuperando alcuni dati, ma quando ci colleghiamo a un social network, aggiungiamo un articolo al carrello in un negozio online o cancelliamo una foto pubblicata in precedenza, inviamo informazioni al server per modificarne lo stato. A questo scopo utilizziamo metodi HTTP come POST, PUT e DELETE.\n",
    "\n",
    "In questa sezione, vedremo come inviare questi tipi comuni di richieste con Python, limitandoci a GET e POST, che sono i metodi usati per reperire informazioni. PUT e DELETE vengono usati in casi specifici che non ci interessano ai fini di questo corso di base."
   ]
  },
  {
   "attachments": {},
   "cell_type": "markdown",
   "metadata": {},
   "source": [
    "## Richiesta GET: `requests.get()`\n",
    "\n",
    "Immaginiamo di dover ottenere la pagina principale del sito ufficiale della libreria `requests`. Possiamo farlo con l'aiuto di `requests.get(url)` che ci restituisce un oggetto di risposta (*response*) contenente tutte le informazioni riguardanti la risposta da parte del server.\n",
    "\n",
    "Nell'esempio che segue otterremo un codice numerico che ci indicherà se la richiesta è andata a buon fine oppure no. Per esempio `200` indica che richiesta è stata ricevuta e non si sono verificati errori, mentre un codice `404` significa che la risorsa richiesta non è stata trovata. Questi numeri sono detti [codici di stato HTTP](https://it.wikipedia.org/wiki/Codici_di_stato_HTTP) e seguono una convenzione, uno [standard](https://en.wikipedia.org/wiki/List_of_HTTP_status_codes).\n",
    "\n",
    "È possibile accedere esplicitamente al codice di risposta tramite l'attributo `.status_code` dell'oggetto di risposta:"
   ]
  },
  {
   "cell_type": "code",
   "execution_count": 1,
   "metadata": {},
   "outputs": [
    {
     "name": "stdout",
     "output_type": "stream",
     "text": [
      "<Response [200]>\n",
      "200\n"
     ]
    }
   ],
   "source": [
    "import requests\n",
    "\n",
    "response = requests.get('https://requests.readthedocs.io/en/master/')\n",
    "\n",
    "print(response)\n",
    "print(response.status_code)\n"
   ]
  },
  {
   "attachments": {},
   "cell_type": "markdown",
   "metadata": {},
   "source": [
    "Il significato primario dei codici è determinato dalla prima cifra, secondo questo schema:\n",
    "\n",
    "- `1xx`: *information* - La richiesta è stata ricevuta, proceda chi deve procedere, attenda chi deve attendere.\n",
    "- `2xx`: *success* - La richiesta è stata ricevuta con successo, compresa ed accettata.\n",
    "- `3xx`: *redirect* - Il client deve eseguire ulteriori azioni per completare la richiesta.\n",
    "- `4xx`: *client error* - La richiesta contiene una sintassi errata o non può essere soddisfatta.\n",
    "- `5xx`: *server error* - Il server non è riuscito a soddisfare una richiesta apparentemente valida.\n",
    "\n",
    "Se si usa un oggetto response con il costrutto `if`, la valutazione sarà `True` se il codice o di tipo `1xx`, `2xx`, `3xx`, altrimenti sarà `False`:\n",
    "\n",
    "- `1xx`, `2xx`, `3xx` &rarr; truthy\n",
    "- `4xx`, `5xx` &rarr; falsy"
   ]
  },
  {
   "cell_type": "code",
   "execution_count": 3,
   "metadata": {},
   "outputs": [
    {
     "name": "stdout",
     "output_type": "stream",
     "text": [
      "An error has occurred.\n"
     ]
    }
   ],
   "source": [
    "import requests\n",
    "\n",
    "response = requests.get('https://requests.readthedocs.io/en/master/')\n",
    "\n",
    "if response:\n",
    "    print('Success!')\n",
    "else:\n",
    "    print('An error has occurred.')\n"
   ]
  },
  {
   "attachments": {},
   "cell_type": "markdown",
   "metadata": {},
   "source": [
    "Per leggere il contenuto della risposta del server, si deve osservare la proprietà `.text`:"
   ]
  },
  {
   "cell_type": "code",
   "execution_count": 2,
   "metadata": {},
   "outputs": [
    {
     "name": "stdout",
     "output_type": "stream",
     "text": [
      "{'User-Agent': 'python-requests/2.28.2', 'Accept-Encoding': 'gzip, deflate', 'Accept': '*/*', 'Connection': 'keep-alive'}\n"
     ]
    }
   ],
   "source": [
    "import requests\n",
    "\n",
    "response = requests.get('https://requests.readthedocs.io/en/master/')\n",
    "\n",
    "print(response.request.headers)"
   ]
  },
  {
   "attachments": {},
   "cell_type": "markdown",
   "metadata": {},
   "source": [
    "Si noti che le richieste decodificano automaticamente il contenuto della risposta del server. È possibile conoscere la codifica utilizzata e modificarla, se necessario, utilizzando la proprietà `.encoding`:"
   ]
  },
  {
   "cell_type": "code",
   "execution_count": 7,
   "metadata": {},
   "outputs": [
    {
     "data": {
      "text/plain": [
       "'utf-8'"
      ]
     },
     "execution_count": 7,
     "metadata": {},
     "output_type": "execute_result"
    }
   ],
   "source": [
    "import requests\n",
    "\n",
    "response = requests.get('https://requests.readthedocs.io/en/master/')\n",
    "\n",
    "response.encoding"
   ]
  },
  {
   "attachments": {},
   "cell_type": "markdown",
   "metadata": {},
   "source": [
    "## Headers\n",
    "\n",
    "Sia la richiesta sia la risposta oltre che a un \"contenuto\" vengono accompagnati anche da un cosiddetto _**header**_, ovvero una \"intestazione\".\n",
    "\n",
    "In parole povere un [header HTTP](https://en.wikipedia.org/wiki/List_of_HTTP_header_fields) è una sorta di bolla di accompagnamento del messaggio, che contiene dei dati utili ai fini della corretta comunicazione tra client e server sotto forma di coppie *campo* (chiave) e *valore*.\n",
    "\n",
    "Più precisamente, *campi* dell'header HTTP sono un elenco di parole chiave e valori sotto forma di stringhe, le quali sono inviate e ricevute dal client e dal server ad ogni richiesta e risposta HTTP. Queste intestazioni sono solitamente invisibili all'utente e vengono elaborate e loggate solo dalle rispettive applicazioni del server e del client. Definiscono il modo in cui la connessione e le informazioni inviate/ricevute attraverso essa devono essere interpretate e gestite."
   ]
  },
  {
   "attachments": {},
   "cell_type": "markdown",
   "metadata": {},
   "source": [
    "### Headers della richiesta\n",
    "\n",
    "Di default, le richieste effettuate con `requests` hanno il seguente header:\n",
    "\n",
    "<pre>\n",
    "GET https://scrapeme.live/shop/ HTTP/1.1\n",
    "\n",
    "Host: scrapeme.live\n",
    "User-Agent: python-requests/2.28.2\n",
    "Accept-Encoding: gzip, deflate\n",
    "Accept: */*\n",
    "Connection: keep-alive\n",
    "</pre>\n",
    "\n",
    "Per ottenere questa informazione dobbiamo innanzitutto accedere all'oggetto che contiene la richiesta originale. Questo è accessibile tramite l'attributo `.request` della risposta. Infine è sufficiente accedere alla proprietà `.headers` della richiesta originale."
   ]
  },
  {
   "cell_type": "code",
   "execution_count": 2,
   "metadata": {},
   "outputs": [
    {
     "name": "stdout",
     "output_type": "stream",
     "text": [
      "{'Accept': '*/*',\n",
      " 'Accept-Encoding': 'gzip, deflate',\n",
      " 'Connection': 'keep-alive',\n",
      " 'User-Agent': 'python-requests/2.28.2'}\n"
     ]
    }
   ],
   "source": [
    "from pprint import pprint\n",
    "import requests\n",
    "\n",
    "response = requests.get('https://requests.readthedocs.io/en/master/')\n",
    "\n",
    "pprint(dict(response.request.headers), width=100)"
   ]
  },
  {
   "attachments": {},
   "cell_type": "markdown",
   "metadata": {},
   "source": [
    "> APPROFONDIMENTO: Se avete dei dubbi, e volete osservare il reale header inviato, è necessario \"sniffare\" la richiesta con un programma esterno. Il modo più semplice è attraverso un proxy che consenta l'analisi del traffico. Per esempio [_**mitmproxy**_](https://mitmproxy.org/) (MITM sta per *Man In The Middle*).\n",
    "\n",
    "In questo modo ci rendiamo conto che il campo `User-Agent` riporta il valore `python-requests/2.28.2`. Quindi sappiate che se non modifichiamo l'header della richiesta, il server saprò che stiamo usando Python `requests`!\n",
    "\n",
    "Per modificare il campo `User-Agent`, come qualsiasi altro campo, è sufficiente passare un dizionario contenente le chiavi e i valori che desideriamo."
   ]
  },
  {
   "cell_type": "code",
   "execution_count": 1,
   "metadata": {},
   "outputs": [
    {
     "name": "stdout",
     "output_type": "stream",
     "text": [
      "{'Accept': '*/*',\n",
      " 'Accept-Encoding': 'gzip, deflate',\n",
      " 'Connection': 'keep-alive',\n",
      " 'User-Agent': 'Mozilla/5.0 (X11; Ubuntu; Linux i686; rv:109.0) Gecko/20100101 Firefox/113.0'}\n"
     ]
    }
   ],
   "source": [
    "from pprint import pprint\n",
    "import requests\n",
    "\n",
    "headers = {\n",
    "    'User-Agent': 'Mozilla/5.0 (X11; Ubuntu; Linux i686; rv:109.0) Gecko/20100101 Firefox/113.0'\n",
    "}\n",
    "\n",
    "response = requests.get('https://requests.readthedocs.io/en/master/', headers=headers)\n",
    "\n",
    "pprint(dict(response.request.headers), width=100)"
   ]
  },
  {
   "attachments": {},
   "cell_type": "markdown",
   "metadata": {},
   "source": [
    "Se volete usare gli user agent più comuni e più recenti, li potete trovare qua:\n",
    "\n",
    "-  [Firefox](https://www.whatismybrowser.com/guides/the-latest-user-agent/firefox)\n",
    "-  [Chrome](https://www.whatismybrowser.com/guides/the-latest-user-agent/chrome)\n",
    "\n",
    "Esistono molti siti che offrono elenchi degli user agent noti.\n",
    "\n",
    "Tuttavia sappiate che un normale browser invia molti altri dati negli header della richiesta, come per esempio informazioni sui cookie e altre utili al funzionamento del sito. Quindi, se il server a cui vi state collegando necessita di particolari header, dovete provvedere voi a impostarli in modo dorretto prima di effettuare la richiesta."
   ]
  },
  {
   "attachments": {},
   "cell_type": "markdown",
   "metadata": {},
   "source": [
    "### Headers della risposta\n",
    "\n",
    "Anche la risposta contiene degli header. Per visualizzarli, basta accedere all'attributo `.headers` dell'oggetto di risposta:"
   ]
  },
  {
   "cell_type": "code",
   "execution_count": 17,
   "metadata": {},
   "outputs": [
    {
     "name": "stdout",
     "output_type": "stream",
     "text": [
      "<class 'requests.structures.CaseInsensitiveDict'>\n"
     ]
    },
    {
     "data": {
      "text/plain": [
       "{'Date': 'Sat, 20 May 2023 10:12:46 GMT',\n",
       " 'Content-Type': 'text/html; charset=utf-8',\n",
       " 'Transfer-Encoding': 'chunked',\n",
       " 'Connection': 'keep-alive',\n",
       " 'Vary': 'Accept-Encoding',\n",
       " 'x-amz-id-2': 'QWwr6eRPN4epZLvM+2s7IOAQ8kHovn5hxRuv3H4RnHN71lVF/jWbCQUUyOtNuBJgyumGGXOt7ys=',\n",
       " 'x-amz-request-id': 'ZVJ2ANGAMTKE7NDK',\n",
       " 'Last-Modified': 'Mon, 15 May 2023 15:05:40 GMT',\n",
       " 'ETag': 'W/\"3bc64e8dfb9ad78da7dfc4dd7f82af3f\"',\n",
       " 'x-amz-server-side-encryption': 'AES256',\n",
       " 'x-amz-meta-mtime': '1684163110.360453993',\n",
       " 'X-Served': 'Nginx-Proxito-Sendfile',\n",
       " 'X-Backend': 'web-i-09882d230536e047f',\n",
       " 'X-RTD-Project': 'requests',\n",
       " 'X-RTD-Version': 'latest',\n",
       " 'X-RTD-Path': '/proxito/html/requests/latest/index.html',\n",
       " 'X-RTD-Domain': 'requests.readthedocs.io',\n",
       " 'X-RTD-Version-Method': 'path',\n",
       " 'X-RTD-Project-Method': 'public_domain',\n",
       " 'Referrer-Policy': 'no-referrer-when-downgrade',\n",
       " 'Strict-Transport-Security': 'max-age=31536000; includeSubDomains; preload',\n",
       " 'X-Content-Type-Options': 'nosniff',\n",
       " 'CDN-Cache-Control': 'public',\n",
       " 'Content-Encoding': 'gzip',\n",
       " 'Cache-Control': 'max-age=1200',\n",
       " 'CF-Cache-Status': 'HIT',\n",
       " 'Age': '3758',\n",
       " 'Server': 'cloudflare',\n",
       " 'CF-RAY': '7ca3cd9fcaf61892-MRS',\n",
       " 'alt-svc': 'h3=\":443\"; ma=86400, h3-29=\":443\"; ma=86400'}"
      ]
     },
     "metadata": {},
     "output_type": "display_data"
    }
   ],
   "source": [
    "import requests\n",
    "\n",
    "response = requests.get('https://requests.readthedocs.io/en/master/')\n",
    "\n",
    "print(type(response.headers))\n",
    "\n",
    "display(dict(response.headers))"
   ]
  },
  {
   "attachments": {},
   "cell_type": "markdown",
   "metadata": {},
   "source": [
    "Viene restituito un oggetto simile a un dizionario, in modo da poter accedere al valore dell'intestazione desiderato tramite la sua chiave. Si noti che le intestazioni sono insensibili alle maiuscole e alle minuscole, il che significa che non ci si deve preoccupare di come sono scritte:"
   ]
  },
  {
   "cell_type": "code",
   "execution_count": 19,
   "metadata": {},
   "outputs": [
    {
     "name": "stdout",
     "output_type": "stream",
     "text": [
      "text/html; charset=utf-8\n",
      "text/html; charset=utf-8\n"
     ]
    }
   ],
   "source": [
    "import requests\n",
    "\n",
    "response = requests.get('https://requests.readthedocs.io/en/master/')\n",
    "\n",
    "print(response.headers['Content-Type'])\n",
    "print(response.headers['CONTENT-TYPE'])\n"
   ]
  },
  {
   "attachments": {},
   "cell_type": "markdown",
   "metadata": {},
   "source": [
    "### Parametri delle *GET query string*\n",
    "\n",
    "Una \"*query string*\" è una convenzione sintattica per aggiungere coppie chiave-valore a un URL.\n",
    "\n",
    "È interpretate come un'informazione separata dall'URL standard per mezzo di un segno di punto interrogativo `?` e contiene coppie chiave-valore. Ogni chiave è separata dal valore da un segno di uguaglianza =, mentre le coppie sono separate da una e commerciale `&`.\n",
    "\n",
    "Tramite le *query string* possiamo simulare i dati aggiunti a un URL di base dal browser o da altre applicazioni client. Il modo in cui questi parametri vengono interpretati dipende dall'applicazione lato server. Per esempio, `https://www.python.org/search/` è una pagina di ricerca del sito ufficiale di Python. Se si cerca `'tutorial'`, i risultati saranno visualizzati nella pagina con l'URL `https://www.python.org/search/?q=tutorial`.\n",
    "\n",
    "Quando si usa `requests`, non è necessario aggiungere manualmente le query string agli URL. La libreria consente di fornire questi argomenti come un dizionario di stringhe utilizzando il *keyword argument* `params` quando si effettua una richiesta:"
   ]
  },
  {
   "cell_type": "code",
   "execution_count": 24,
   "metadata": {},
   "outputs": [
    {
     "name": "stdout",
     "output_type": "stream",
     "text": [
      "https://docs.python.org/3/search.html?q=tutorial&o=1\n",
      "\n",
      "<!DOCTYPE html>\n",
      "\n",
      "<html>\n",
      "  <head>\n",
      "    <meta charset=\"utf-8\" />\n",
      "    <meta name=\"viewport\" content=\"width=device-width, initial-scale=1.0\" />\n",
      "    <title>Search &#8212; Python 3.11.3 documentation</title><meta name=\"viewport\" content=\"width=device-width, initial-scale=1.0\">\n",
      "    \n",
      "    <link rel=\"stylesheet\" type=\"text/css\" href=\"_static/pygments.css\" />\n",
      "    <link rel=\"stylesheet\" type=\"text/css\" href=\"_static/pydoctheme.css?digest=2d3badd06fe70b34b68db01f99471ce1624ffe4a\" />\n",
      "    \n",
      "    \n",
      "    <script data-url_root=\"./\" id=\"documentation_options\" src=\"_static/documentation_options.js\"></script>\n",
      "    <script src=\"_static/jquery.js\"></script>\n",
      "    <script src=\"_static/underscore.js\"></script>\n",
      "    <script src=\"_static/doctools.js\"></script>\n",
      "    \n",
      "    <script src=\"_static/sidebar.js\"></script>\n",
      "    \n",
      "    <script src=\"_static/searchtools.js\"></script>\n",
      "    <script src=\"_static/language_data.js\"></script>\n",
      "    <link rel=\"search\" type=\"application/opensearchdescription+xml\"\n",
      "          title=\"Search within Python 3.11.3 documentation\"\n",
      "          href=\"_static/opensearch.xml\"/>\n",
      "    <link rel=\"author\" title=\"About these documents\" href=\"about.html\" />\n",
      "    <link rel=\"index\" title=\"Index\" href=\"genindex.html\" />\n",
      "    <link rel=\"search\" title=\"Search\" href=\"#\" />\n",
      "    <link rel=\"copyright\" title=\"Copyright\" href=\"copyright.html\" />\n",
      "    \n",
      "  <script src=\"searchindex.js\" defer></script>\n",
      "  \n",
      "    <link rel=\"canonical\" href=\"https://docs.python.org/3/search.html\" />\n",
      "    \n",
      "      \n",
      "    \n",
      "\n",
      "    \n",
      "    <style>\n",
      "      @media only screen {\n",
      "        table.full-width-table {\n",
      "            width: 100%;\n",
      "        }\n",
      "      }\n",
      "    </style>\n",
      "<link rel=\"shortcut icon\" type=\"image/png\" href=\"_static/py.svg\" />\n",
      "            <script type=\"text/javascript\" src=\"_static/copybutton.js\"></script>\n",
      "            <script type=\"text/javascript\" src=\"_static/menu.js\"></script> \n",
      "\n",
      "\n",
      "    <script type=\"text/javascript\">\n",
      "        var GLOSSARY_PAGE = 'glossary.html';\n",
      "\n",
      "        jQuery(function() {\n",
      "            $.getJSON(\"_static/glossary.json\", function(glossary) {\n",
      "                var RESULT_TEMPLATE = '<div style=\"display: none\" class=\"admonition seealso\" id=\"glossary-result\">' +\n",
      "                                      '  <p class=\"topic-title\">' +\n",
      "                                      '    <a class=\"glossary-title\" href=\"#\"></a>' +\n",
      "                                      '  </p>' +\n",
      "                                      '  <div class=\"glossary-body\"></div>' +\n",
      "                                      '</div>';\n",
      "                $(\"#search-results\").prepend(RESULT_TEMPLATE);\n",
      "\n",
      "                var params = $.getQueryParameters();\n",
      "                if (params.q) {\n",
      "                    var search_param = params.q[0].toLowerCase();\n",
      "                    var glossary_item = glossary[search_param];\n",
      "                    if (glossary_item) {\n",
      "                        var resultDiv = $(\"#glossary-result\");\n",
      "\n",
      "                        // set up the title text with a link to the glossary page\n",
      "                        resultDiv.find(\".glossary-title\").text('Glossary: ' + glossary_item.title);\n",
      "                        var link_target = search_param.replace(/ /g, '-');\n",
      "                        resultDiv.find(\".glossary-title\").attr(\n",
      "                            'href', GLOSSARY_PAGE + '#term-' + link_target\n",
      "                        );\n",
      "\n",
      "                        // rewrite any anchor links (to other glossary terms)\n",
      "                        // to have a full reference to the glossary page\n",
      "                        var body = $(glossary_item.body).children();\n",
      "                        body.find(\"a[href^='#']\").each(function() {\n",
      "                            var current_url = $(this).attr('href');\n",
      "                            $(this).attr('href', GLOSSARY_PAGE + current_url);\n",
      "                        });\n",
      "                        resultDiv.find(\".glossary-body\").html(body);\n",
      "\n",
      "                        resultDiv.show();\n",
      "                    } else {\n",
      "                        $(\"#glossary-result\").hide('');\n",
      "                    }\n",
      "                }\n",
      "            });\n",
      "        });\n",
      "    </script>\n",
      "\n",
      "  </head>\n",
      "<body>\n",
      "<div class=\"mobile-nav\">\n",
      "    <input type=\"checkbox\" id=\"menuToggler\" class=\"toggler__input\" aria-controls=\"navigation\"\n",
      "           aria-pressed=\"false\" aria-expanded=\"false\" role=\"button\" aria-label=\"Menu\" />\n",
      "    <label for=\"menuToggler\" class=\"toggler__label\">\n",
      "        <span></span>\n",
      "    </label>\n",
      "    <nav class=\"nav-content\" role=\"navigation\">\n",
      "         <a href=\"https://www.python.org/\" class=\"nav-logo\">\n",
      "             <img src=\"_static/py.svg\" alt=\"Logo\"/>\n",
      "         </a>\n",
      "        <div class=\"version_switcher_placeholder\"></div>\n",
      "    </nav>\n",
      "    <div class=\"menu-wrapper\">\n",
      "        <nav class=\"menu\" role=\"navigation\" aria-label=\"main navigation\">\n",
      "            <div class=\"language_switcher_placeholder\"></div>\n",
      "        </nav>\n",
      "    </div>\n",
      "</div>\n",
      "\n",
      "  \n",
      "    <div class=\"related\" role=\"navigation\" aria-label=\"related navigation\">\n",
      "      <h3>Navigation</h3>\n",
      "      <ul>\n",
      "        <li class=\"right\" style=\"margin-right: 10px\">\n",
      "          <a href=\"genindex.html\" title=\"General Index\"\n",
      "             accesskey=\"I\">index</a></li>\n",
      "        <li class=\"right\" >\n",
      "          <a href=\"py-modindex.html\" title=\"Python Module Index\"\n",
      "             >modules</a> |</li>\n",
      "\n",
      "          <li><img src=\"_static/py.svg\" alt=\"python logo\" style=\"vertical-align: middle; margin-top: -1px\"/></li>\n",
      "          <li><a href=\"https://www.python.org/\">Python</a> &#187;</li>\n",
      "          <li class=\"switchers\">\n",
      "            <div class=\"language_switcher_placeholder\"></div>\n",
      "            <div class=\"version_switcher_placeholder\"></div>\n",
      "          </li>\n",
      "          <li>\n",
      "              \n",
      "          </li>\n",
      "    <li id=\"cpython-language-and-version\">\n",
      "      <a href=\"index.html\">3.11.3 Documentation</a> &#187;\n",
      "    </li>\n",
      "\n",
      "        <li class=\"nav-item nav-item-this\"><a href=\"\">Search</a></li>\n",
      "            \n",
      "      </ul>\n",
      "    </div>    \n",
      "\n",
      "    <div class=\"document\">\n",
      "      <div class=\"documentwrapper\">\n",
      "        <div class=\"bodywrapper\">\n",
      "          <div class=\"body\" role=\"main\">\n",
      "            \n",
      "  <h1 id=\"search-documentation\">Search</h1>\n",
      "  \n",
      "  <noscript>\n",
      "  <div class=\"admonition warning\">\n",
      "  <p>\n",
      "    Please activate JavaScript to enable the search\n",
      "    functionality.\n",
      "  </p>\n",
      "  </div>\n",
      "  </noscript>\n",
      "  \n",
      "  \n",
      "  <p>\n",
      "    Searching for multiple words only shows matches that contain\n",
      "    all words.\n",
      "  </p>\n",
      "  \n",
      "  \n",
      "  <form action=\"\" method=\"get\">\n",
      "    <input type=\"text\" name=\"q\" aria-labelledby=\"search-documentation\" value=\"\" autocomplete=\"off\" autocorrect=\"off\" autocapitalize=\"off\" spellcheck=\"false\"/>\n",
      "    <input type=\"submit\" value=\"search\" />\n",
      "    <span id=\"search-progress\" style=\"padding-left: 10px\"></span>\n",
      "  </form>\n",
      "  \n",
      "  \n",
      "  \n",
      "  <div id=\"search-results\">\n",
      "  \n",
      "  </div>\n",
      "  \n",
      "\n",
      "            <div class=\"clearer\"></div>\n",
      "          </div>\n",
      "        </div>\n",
      "      </div>\n",
      "      <div class=\"sphinxsidebar\" role=\"navigation\" aria-label=\"main navigation\">\n",
      "        <div class=\"sphinxsidebarwrapper\">\n",
      "        </div>\n",
      "      </div>\n",
      "      <div class=\"clearer\"></div>\n",
      "    </div>  \n",
      "    <div class=\"related\" role=\"navigation\" aria-label=\"related navigation\">\n",
      "      <h3>Navigation</h3>\n",
      "      <ul>\n",
      "        <li class=\"right\" style=\"margin-right: 10px\">\n",
      "          <a href=\"genindex.html\" title=\"General Index\"\n",
      "             >index</a></li>\n",
      "        <li class=\"right\" >\n",
      "          <a href=\"py-modindex.html\" title=\"Python Module Index\"\n",
      "             >modules</a> |</li>\n",
      "\n",
      "          <li><img src=\"_static/py.svg\" alt=\"python logo\" style=\"vertical-align: middle; margin-top: -1px\"/></li>\n",
      "          <li><a href=\"https://www.python.org/\">Python</a> &#187;</li>\n",
      "          <li class=\"switchers\">\n",
      "            <div class=\"language_switcher_placeholder\"></div>\n",
      "            <div class=\"version_switcher_placeholder\"></div>\n",
      "          </li>\n",
      "          <li>\n",
      "              \n",
      "          </li>\n",
      "    <li id=\"cpython-language-and-version\">\n",
      "      <a href=\"index.html\">3.11.3 Documentation</a> &#187;\n",
      "    </li>\n",
      "\n",
      "        <li class=\"nav-item nav-item-this\"><a href=\"\">Search</a></li>\n",
      "            \n",
      "      </ul>\n",
      "    </div>  \n",
      "    <div class=\"footer\">\n",
      "    &copy; <a href=\"copyright.html\">Copyright</a> 2001-2023, Python Software Foundation.\n",
      "    <br />\n",
      "    This page is licensed under the Python Software Foundation License Version 2.\n",
      "    <br />\n",
      "    Examples, recipes, and other code in the documentation are additionally licensed under the Zero Clause BSD License.\n",
      "    <br />\n",
      "    See <a href=\"/license.html\">History and License</a> for more information.<br />\n",
      "    <br />\n",
      "\n",
      "    The Python Software Foundation is a non-profit corporation.\n",
      "<a href=\"https://www.python.org/psf/donations/\">Please donate.</a>\n",
      "<br />\n",
      "    <br />\n",
      "\n",
      "    Last updated on May 26, 2023.\n",
      "    <a href=\"/bugs.html\">Found a bug</a>?\n",
      "    <br />\n",
      "\n",
      "    Created using <a href=\"https://www.sphinx-doc.org/\">Sphinx</a> 4.5.0.\n",
      "    </div>\n",
      "\n",
      "    <script type=\"text/javascript\" src=\"_static/switchers.js\"></script>\n",
      "  </body>\n",
      "</html>\n"
     ]
    }
   ],
   "source": [
    "import requests\n",
    "\n",
    "# Il dizionario con i parametri della query\n",
    "my_params = {'q': 'tutorial',\n",
    "             'o': 1}\n",
    "\n",
    "# Questa richiesta otterrà la pagina con i risultati della ricerca di \"tutorial\"\n",
    "# sul sito ufficiale di Python:\n",
    "search_res = requests.get('https://docs.python.org/3/search.html', params=my_params)\n",
    "\n",
    "print(search_res.request.url)\n",
    "print(search_res.text)"
   ]
  },
  {
   "attachments": {},
   "cell_type": "markdown",
   "metadata": {},
   "source": [
    "Se è necessario inviare richieste simili più volte, è opportuno definire una funzione speciale per questo.\n",
    "\n",
    "Ad esempio, google_search(query, num) restituisce un URL alla pagina contenente un numero di risultati di ricerca di Google per una determinata query:"
   ]
  },
  {
   "cell_type": "code",
   "execution_count": 27,
   "metadata": {},
   "outputs": [
    {
     "name": "stdout",
     "output_type": "stream",
     "text": [
      "https://docs.python.org/3/search.html?q=urllib&num=1\n"
     ]
    }
   ],
   "source": [
    "import requests\n",
    "\n",
    "def my_search(query, num):\n",
    "    res = requests.get('https://docs.python.org/3/search.html', params={\n",
    "        'q': query,\n",
    "        'num': num\n",
    "    })\n",
    "    return res\n",
    "\n",
    "new_res = my_search('urllib', 1)\n",
    "\n",
    "print(new_res.url)"
   ]
  },
  {
   "attachments": {},
   "cell_type": "markdown",
   "metadata": {},
   "source": [
    "Attenzione a non fare troppe richieste in breve tempo!\n",
    "\n",
    "- Molte richieste possono portare al blocco del vostro IP o dell'eventuale account che utilizzate per accedere al server. Cercate di essere attenti quando inviate più richieste! Vedremo più avanti alcuni suggerimenti.\n",
    "\n",
    "Purtroppo il Web oggi non è più solo HTML!\n",
    "\n",
    "- Oggi la maggior parte dei motori di ricerca sia come Google sia quelli \"interni\" a ciascun sito utilizzano JavaScript per reperire le richieste dal server e comporre la pagina con i risultati. Questo complica un po' le cose perché non ci basta la pagina HTML di risposta, ma dobbiamo eseguire alcuni script JavaScript necessari al corretto funzionamento della pagina."
   ]
  },
  {
   "attachments": {},
   "cell_type": "markdown",
   "metadata": {},
   "source": [
    "## Richiesta POST: `requests.post()`\n",
    "\n",
    "Una richiesta POST consente di inviare alcuni dati aggiuntivi al server. A differenza delle richieste GET, in cui si possono specificare parametri aggiuntivi nella query string, le richieste POST passano i dati aggiuntivi nel corpo del messaggio (di *request*).\n",
    "\n",
    "Con la libreria `requests`, è possibile effettuare una richiesta POST utilizzando `requests.post`, specificando i dati aggiuntivi con il parametro `data`, ad esempio come dizionario.\n",
    "\n",
    "Si immagini di voler aggiungere un nuovo post al proprio blog personale. Si potrebbe scrivere qualcosa di simile:"
   ]
  },
  {
   "cell_type": "code",
   "execution_count": 2,
   "metadata": {},
   "outputs": [
    {
     "name": "stdout",
     "output_type": "stream",
     "text": [
      "<Response [200]>\n"
     ]
    }
   ],
   "source": [
    "import requests\n",
    "\n",
    "my_data = {'post_text': 'Alcuni esempi con Python per fare il caffè!'}\n",
    "\n",
    "res = requests.post('https://httpbingo.org/post', data=my_data)\n",
    "\n",
    "print(res)\n",
    "# print(res.text)"
   ]
  },
  {
   "attachments": {},
   "cell_type": "markdown",
   "metadata": {},
   "source": [
    "## Richiesta PUT e DELETE: `requests.put()` e `requests.delete()`\n",
    "\n",
    "Il metodo PUT sostituisce la risorsa all'URL dato con la risorsa specificata nella richiesta. Se originariamente non esiste una risorsa da sostituire sul server, PUT ne creerà una.\n",
    "\n",
    "Si potrebbe anche voler rimuovere una risorsa dal server. Per farlo, occorre inviare una richiesta DELETE, che cancella la risorsa identificata dall'URL della richiesta.\n",
    "\n",
    "Tuttavia questi due metodi non ci servono attualmente, ai fini del *data retrival*, in quanto i dati vogliamo principalmente leggerli, non cancellarli o aggiornali."
   ]
  },
  {
   "attachments": {},
   "cell_type": "markdown",
   "metadata": {},
   "source": [
    "## Idempotenza\n",
    "\n",
    "Una proprietà importante di alcune richieste HTTP è l'idempotenza. Una richiesta è detta idempotente se l'invio della stessa richiesta più di una volta non introduce ulteriori modifiche allo stato del server. \n",
    "\n",
    "Analizzando le richieste menzionate in questa sezione, quali hanno questa proprietà?\n",
    "\n",
    "Ovviamente, GET è idempotente,o meglio, nullipotente, perché si limita a raccogliere i dati dal server senza introdurre alcuna modifica.\n",
    "\n",
    "Anche PUT è idempotente, perché se si invia lo stesso oggetto più volte, non avrà alcun effetto rispetto all'invio di una richiesta PUT una sola volta.\n",
    "\n",
    "E, naturalmente, se si elimina una risorsa una volta, lo stato del server non cambierà ulteriormente quando si invia la stessa richiesta più volte, il che significa che DELETE è idempotente.\n",
    "\n",
    "Tuttavia, si noti che POST non è idempotente, perché una richiesta POST può aggiungere nuovi dati al server (ad esempio, un nuovo record a un database) e farlo più volte è diverso dall'aggiungerlo una sola volta."
   ]
  },
  {
   "attachments": {},
   "cell_type": "markdown",
   "metadata": {},
   "source": [
    "## Uso pratico\n",
    "\n",
    "In realtà il funzionamento questi metodi HTTP dipendono da come vengono implementate le applicazioni lato server. I nomi di questi tipi di richieste sono assolutamente convenzionali e rappresentano solamente dei modi diversi per inviare dei dati al server. Che cosa il server ne farà di quei dati è un altro paio di maniche. Non c'è nessun'impedimento a usare il metodo DELETE per leggere i dati e il POST per eliminarli.\n",
    "\n",
    "Naturalmente nessuno stravolge il significato di questi metodi, tuttavia spesso il metodo POST è utilizzato al posto del metodo GET in quanto i parametri della query string sono visibili nell'URL e dunque vengono memorizzati come metadati nei log dei provider internet. Per una maggiore privacy, oggi si tende ad inviare le informazioni considerate più sensibili tramite il metodo POST piuttosto che GET. Inoltre, il contenuto del POST può esere completamente crittografato, cosa che non si può fare del tutto con GET.\n",
    "\n"
   ]
  },
  {
   "attachments": {},
   "cell_type": "markdown",
   "metadata": {},
   "source": [
    "## Riassumendo\n",
    "\n",
    "- `requests` è una libreria Python di terze parti per effettuare richieste HTTP.\n",
    "\n",
    "GET\n",
    "\n",
    "- La richiesta `requests.get()` viene utilizzata per recuperare i dati dal server tramite il metodo GET.\n",
    "- Per fornire parametri aggiuntivi al server con la richiesta GET, utilizzare una query string.\n",
    "- Una stringa di query può essere passata a `requests.get(url, params)` come un dizionario di coppie chiave-valore.\n",
    "\n",
    "POST\n",
    "\n",
    "- POST è il metodo di richiesta più comune utilizzato per inviare dati al server (anche e soprattutto richieste di dati).\n",
    "- Per effettuare una richiesta POST con requests, utilizzare `requests.post(url, data)`.\n",
    "\n",
    "PUT e DELETE\n",
    "\n",
    "- Le richieste PUT sono utilizzate per aggiornare la risorsa sul server. Possono essere inviate con `requests.put(url, data)`.\n",
    "- La richiesta DELETE `requests.delete(url)` rimuove dal server una risorsa all'URL indicato.\n",
    "\n",
    "Idempotenza\n",
    "\n",
    "- Una richiesta HTTP è idempotente se l'invio di più richieste identiche ha lo stesso risultato dell'invio di una singola richiesta.\n",
    "- GET, PUT e DELETE sono idempotenti, mentre POST non lo è."
   ]
  },
  {
   "attachments": {},
   "cell_type": "markdown",
   "metadata": {},
   "source": [
    "## Per fare dei test\n",
    "\n",
    "Il sito [`httpbingo.org`](https://httpbingo.org/) può essere molto utile quando fai delle prove, perché consente di testare diversi tipi di richieste HTTP."
   ]
  },
  {
   "attachments": {},
   "cell_type": "markdown",
   "metadata": {},
   "source": [
    "## Per approfondire:\n",
    "\n",
    "https://docs.python-requests.org/en/latest/\n",
    "\n",
    "https://realpython.com/python-requests/"
   ]
  },
  {
   "attachments": {},
   "cell_type": "markdown",
   "metadata": {},
   "source": [
    "# Modulo built-in `urllib.request`\n",
    "\n",
    "Il modulo della Libreria standard `urllib.request` offre un'interfaccia per le comunicazioni HTTP a più basso livello e dunque un po' più ostica da usare.\n",
    "\n",
    "Per approfondire, consiglio di iniziare con i seguenti link:\n",
    "\n",
    "https://docs.python.org/3/library/urllib.request.html\n",
    "\n",
    "https://realpython.com/urllib-request/"
   ]
  }
 ],
 "metadata": {
  "kernelspec": {
   "display_name": ".venv",
   "language": "python",
   "name": "python3"
  },
  "language_info": {
   "codemirror_mode": {
    "name": "ipython",
    "version": 3
   },
   "file_extension": ".py",
   "mimetype": "text/x-python",
   "name": "python",
   "nbconvert_exporter": "python",
   "pygments_lexer": "ipython3",
   "version": "3.11.2"
  },
  "orig_nbformat": 4
 },
 "nbformat": 4,
 "nbformat_minor": 2
}
