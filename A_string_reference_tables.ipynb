{
 "cells": [
  {
   "attachments": {},
   "cell_type": "markdown",
   "metadata": {},
   "source": [
    "\n",
    "# Stringhe\n",
    "\n",
    "Alcune sequenze di caratteri dette _sequenze di escape_ sono speciali perchè invece di mostrare caratteri, forzano la stampa a fare cose particolari come andare a capo o inserire spazi extra. Queste sequenze sono sempre precedute da il carattere di _backslash_ `\\`:\n",
    "\n",
    "|Descrizione|Sequenza di _escape_| \n",
    "|-----------|---------------------|\n",
    "|Ritorno a capo (_linefeed_)|`\\n`|\n",
    "|Tabulazione (_ASCII tab_)| `\\t`| \n",
    "\n",
    "**Caratteri speciali**: Per mettere caratteri speciali come il singolo apice `'` o le doppie virgolette `\"` , dobbiamo creare una cosiddetta _sequenza di escape_, cioè prima scriviamo il carattere _backslash_ `\\` e poi lo facciamo seguire dal carattere speciale che ci interessa: \n",
    "\n",
    "|Descrizione|Sequenza di _escape_|Risultato a stampa|\n",
    "|--------|-----|-----------|\n",
    "|Apice singolo|`\\'`|`'`|\n",
    "|Doppio apice|`\\\"`| `\"`|\n",
    "|Backslash|`\\\\` | `\\`|"
   ]
  },
  {
   "attachments": {},
   "cell_type": "markdown",
   "metadata": {},
   "source": [
    "### Caratteri Unicode\n",
    "\n",
    "Quando abbiamo bisogno di caratteri particolari come ✪  che non sono disponibili sulla tastiera, possiamo guardare i caratteri Unicode. [Ce ne sono parecchi](http://www.fileformat.info/info/unicode/char/a.htm), e possiamo spesso usarli in Python 3 semplicemente copia-incollandoli. Per esempio, se vai a [questa pagina](https://www.fileformat.info/info/unicode/char/272a/index.htm) puoi copia-incollare il carattere ✪. In altri casi potrebbe essere così speciale che non può nemmeno essere correttamente visualizzato, perciò in questi casi puoi usare una sequenza più complessa nel formato `\\uxxxx` come questo:\n",
    "\n",
    "|Descrizione|Sequenza di escape|Risultato stampato|\n",
    "|--------|-----|-----------|\n",
    "|Esempio stella in un cerchio nel formato `\\uxxxx`| `\\u272A`|✪|"
   ]
  },
  {
   "attachments": {},
   "cell_type": "markdown",
   "metadata": {},
   "source": [
    "## Operatori e operazioni con le stringhe\n",
    "\n",
    "Python offre diversi operatori per lavorare con le stringhe:\n",
    "\n",
    "|Operatore|Uso|Risultato|Significato|\n",
    "|---|---|----|-----|\n",
    "|len|`len`(str)|int| Ritorna la lunghezza della stringa|\n",
    "|concatenazione|str `+` str|str| Concatena due stringhe|\n",
    "|inclusione|str `in` str|bool| Controlla se la stringa è presente in un'altra stringa|\n",
    "|indice|str`[`int`]`|str|Accede  al carattere all'indice specificato|\n",
    "|[slice](#Slice)|str`[`int`:`int`]`|str|Estrae una sotto-stringa|\n",
    "|[uguaglianza](#Operatori-uguaglianza)|`==`,`!=`|`bool`| Controlla se due stringhe sono uguali o differenti|\n",
    "|[replicazione](#Operatore-di-replicazione)|str `*` int|str| Replica la stringa|"
   ]
  },
  {
   "attachments": {},
   "cell_type": "markdown",
   "metadata": {},
   "source": [
    "## Metodi delle stringhe\n",
    "\n",
    "Ogni tipo di dati ha associati dei metodi particolari per quel tipo, vediamo instanto quelli più semplici associati al tipo stringa (`str`).\n",
    "\n",
    "|Risultato|Metodo|Significato|\n",
    "|---------|------|-----------|\n",
    "|str|[str.upper()](#Esempio-upper)|Ritorna la stringa con tutti i caratteri maiuscoli|\n",
    "|str|[str.lower()](#Metodo-lower)|Ritorna la stringa con tutti i caratteri minuscoli|\n",
    "|str|[str.capitalize()](#Metodo-capitalize)|Ritorna la stringa con il primo carattere maiuscolo|\n",
    "|bool|[str.startswith(str)](#Metodo-startswith)|Controlla se la stringa inizia con un'altra|\n",
    "|bool|[str.endswith(str)](#Metodo-endswith)|Controlla se la stringa finisce con un'altra|\n",
    "|bool|[str.isalpha(str)](#Metodo-isalpha)|Controlla se tutti i caratteri sono alfabetici|\n",
    "|bool|[str.isdigit(str)](#Metodo-isdigit)|Controlla se tutti i caratteri sono cifre|\n",
    "|bool|[str.isupper()](#Metodi-isupper-e-islower)|Controlla se tutti i caratteri sono minuscoli|\n",
    "|bool|[str.islower()](#Metodi-isupper-e-islower)|Controlla se tutti i caratteri sono maiuscoli|\n",
    "|str|[str.strip(str)](#Metodo-strip)|Rimuove stringhe dai lati|\n",
    "|str|[str.lstrip(str)](#Metodo-lstrip)|Rimuove stringhe da sinistra|\n",
    "|str|[str.rstrip(str)](#Metodo-rstrip)|Rimuove stringhe da destra|\n",
    "|int|[str.count(str)](#Metodo-count)|Conta il numero di occorrenze di una sottostringa|\n",
    "|int|[str.find(str)](#Metodo-find)|Ritorna la prima posizione di una sottostringa a partire da sinistra|\n",
    "|int|[str.rfind(str)](#Metodo-rfind)|Ritorna la prima posizione di una sottostringa a partire da destra|\n",
    "|str|[str.replace(str, str)](#Metodo-replace)|Sostituisce sottostringhe|\n"
   ]
  },
  {
   "cell_type": "code",
   "execution_count": null,
   "metadata": {
    "vscode": {
     "languageId": "plaintext"
    }
   },
   "outputs": [],
   "source": []
  },
  {
   "attachments": {},
   "cell_type": "markdown",
   "metadata": {},
   "source": [
    "Le stringhe mettono a disposizione diversi metodi per effettuare ricerche e e trasformarle in nuove stringhe, ma attenzione: il potere è nulla senza il controllo! A volte ti troverai con l'esigenza di usarli, e potrebbero anche funzionare con qualche piccolo esempio, ma potrebbero nascondere tranelli che poi si rimpiangono amaramente.\n",
    "\n",
    "L'osservazione più importante è che quando i metodi delle stringhe generano una stringa, questa è SEMPRE NUOVA.\n",
    "\n",
    "L'oggetto stringa originale non viene MAI modificato (perchè le stringhe sono immutabili). "
   ]
  }
 ],
 "metadata": {
  "language_info": {
   "name": "python"
  },
  "orig_nbformat": 4
 },
 "nbformat": 4,
 "nbformat_minor": 2
}
