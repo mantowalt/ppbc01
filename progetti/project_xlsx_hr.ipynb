{
 "cells": [
  {
   "attachments": {},
   "cell_type": "markdown",
   "metadata": {},
   "source": [
    "# Progetto: Excel per HR"
   ]
  },
  {
   "attachments": {},
   "cell_type": "markdown",
   "metadata": {},
   "source": [
    "Lettura unput utente:\n",
    "- Leggere la data come input()\n",
    "\n",
    "Foglio \"Candidati\":\n",
    "- Filtrare per \"Data invio CV al cliente\" == data da input utente.\n",
    "- Leggere tutti i valori delle colonne per ciascuna (attenzione, i dati, non le formule con CERCA.VERT).\n",
    "\n",
    "Cartella con i CV:\n",
    "- Nella cartella indicata, cerca tutti i file di CV che corrispondono alle coppie \"Nome\" e \"Cognome\" dei candidati selezionati e estensione .PDF o .DOCX\n",
    "- (Se trova dei file diversi da PDF o .DOCX ma che corrispondono al pattern di ricerca, avvisa l'utente che ci sono file non compatibili con l'invio e di provare a forzarne la conversione in PDF o DOCX.)\n",
    "\n",
    "Report finale:\n",
    "- Creazione di un nuovo file Excel che riporti solo le informazioni dei candidati selezionati in base alla \"Data invio CV al cliente."
   ]
  },
  {
   "cell_type": "code",
   "execution_count": 1,
   "metadata": {},
   "outputs": [
    {
     "name": "stderr",
     "output_type": "stream",
     "text": [
      "/Users/knox/Repositories/python_training/python_corso_base/.venv/lib/python3.11/site-packages/openpyxl/worksheet/_reader.py:329: UserWarning: Unknown extension is not supported and will be removed\n",
      "  warn(msg)\n",
      "/Users/knox/Repositories/python_training/python_corso_base/.venv/lib/python3.11/site-packages/openpyxl/worksheet/_reader.py:329: UserWarning: Data Validation extension is not supported and will be removed\n",
      "  warn(msg)\n"
     ]
    }
   ],
   "source": [
    "from pprint import pprint\n",
    "import datetime\n",
    "import openpyxl\n",
    "\n",
    "\n",
    "book = openpyxl.load_workbook('./DB C-Lab (HRR) test.xlsx', data_only=True)\n",
    "\n",
    "target_sheet = 'Candidati'\n",
    "target_col_label = 'Data invio CV al cliente'\n",
    "target_col_num = None\n",
    "# data_invio = input('Inserire la \"Data invio CV al cliente\" in formato dd/mm/yyyy:')\n",
    "# target_date = datetime.datetime.strptime(data_invio, '%d/%m/%Y')\n",
    "target_date = datetime.date.fromisoformat('2023-05-15')\n",
    "\n",
    "# controllo che il foglio \"Candidati\" esista\n",
    "if target_sheet not in book.sheetnames:\n",
    "    raise ValueError('Il foglio \"{target_sheet}\" non è stato trovato nella '\n",
    "                     f'cartella di lavoro.')\n",
    "\n",
    "foglio_candidati = book[target_sheet]\n",
    "\n",
    "# individuo il numero di colonna della data oggetto del filtro\n",
    "for col_num in range(1, foglio_candidati.max_column):\n",
    "    column_name = foglio_candidati.cell(1, col_num).value\n",
    "    if column_name == target_col_label:\n",
    "        target_col = col_num\n",
    "\n",
    "# controllo che la colonna con la data oggetto del filtro esista\n",
    "if not target_col:\n",
    "    raise ValueError(f'La colonna \"{target_col_label}\" non è stata trovata '\n",
    "                     f'nel foglio \"{target_sheet}\".')\n",
    "\n",
    "# creo un contenitore per i risultati del foglio \"Candidati\"\n",
    "candidati_filtrati = []\n",
    "\n",
    "# per ciascuna riga\n",
    "for row_num in range(1, foglio_candidati.max_row):\n",
    "    # ottiene il valore del campo con la data target\n",
    "    date_cell = foglio_candidati.cell(row_num, target_col).value\n",
    "    # se è la prima riga oppure se il valore ottenuto è di tipo data e se la data corrisponde\n",
    "    if row_num == 1 or (isinstance(date_cell, datetime.datetime) and date_cell.date() == target_date):\n",
    "        # copia l'intera riga\n",
    "        record = []\n",
    "        for col_num in range(1, foglio_candidati.max_column):\n",
    "            record.append(foglio_candidati.cell(row_num, col_num).value)\n",
    "\n",
    "        candidati_filtrati.append(record)\n",
    "\n",
    "# pprint(candidati_filtrati)\n",
    "\n",
    "# creo il file di output\n",
    "book_transfer = openpyxl.Workbook()\n",
    "foglio_transfer = book_transfer.active\n",
    "foglio_transfer.title = 'Candidati'\n",
    "\n",
    "# compilo il foglio di output\n",
    "for row_num, row in enumerate(candidati_filtrati):\n",
    "    for col_num, cell in enumerate(row):\n",
    "        # se il valore che sta per scrivere è una data, la converte in stringa\n",
    "        if isinstance(cell, datetime.datetime):\n",
    "            cell = cell.strftime('%d/%m/%Y')\n",
    "        foglio_transfer.cell(row_num+1, col_num+1).value = cell\n",
    "\n",
    "# salvo il file di output\n",
    "book_transfer.save('./DB C-Lab (Transfr) test.xlsx')"
   ]
  }
 ],
 "metadata": {
  "kernelspec": {
   "display_name": ".venv",
   "language": "python",
   "name": "python3"
  },
  "language_info": {
   "codemirror_mode": {
    "name": "ipython",
    "version": 3
   },
   "file_extension": ".py",
   "mimetype": "text/x-python",
   "name": "python",
   "nbconvert_exporter": "python",
   "pygments_lexer": "ipython3",
   "version": "3.11.2"
  },
  "orig_nbformat": 4
 },
 "nbformat": 4,
 "nbformat_minor": 2
}
