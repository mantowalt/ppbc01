{
 "cells": [
  {
   "attachments": {},
   "cell_type": "markdown",
   "metadata": {},
   "source": [
    "## Esercizio - Censura al tiramisù\n",
    " \n",
    "Ci è stato inviato un testo illegale, immorale e che fa pure ingrassare. \n",
    "Per tutelare la pubblica salute abbiamo l'arduo compito di censurarlo e \n",
    "renderlo consono al buon costume.\n",
    " \n",
    "1) E' necessario sostituire OGNI occorrenza delle due parole malefiche con una  più salubre censura, trasformando il testo in modo che la print  di testo_censurato non contenga nessuna parola incriminata.\n",
    "\n",
    "Esempio:\n",
    "\n",
    "```python\n",
    "testo= \"Grazie all'uso di Cera Splendent tutto brilla!\"\n",
    "parola_malefica = \"splendent\"\n",
    "censura = \"******\"\n",
    "testo_censurato: \"Grazie all'uso di Cera ****** tutto brilla!\"\n",
    "```\n",
    "\n",
    "2) Per scrivere il nostro rapporto di censori dobbiamo rendere conto di quante parole abbiamo censurato. Stampare alla fine il numero (ovviamente in maniera automatica ), per esempio:\n",
    "\n",
    "```\n",
    "\"Censurata 1 parola\"\n",
    "```"
   ]
  },
  {
   "attachments": {},
   "cell_type": "markdown",
   "metadata": {},
   "source": [
    ". contare quante volte compaiono le parole"
   ]
  },
  {
   "cell_type": "code",
   "execution_count": 42,
   "metadata": {},
   "outputs": [
    {
     "ename": "SyntaxError",
     "evalue": "unterminated string literal (detected at line 30) (3707656887.py, line 30)",
     "output_type": "error",
     "traceback": [
      "\u001b[1;36m  Cell \u001b[1;32mIn[42], line 30\u001b[1;36m\u001b[0m\n\u001b[1;33m    testo_censura = re.sub(parola_malefica, censura, testo_)'\u001b[0m\n\u001b[1;37m                                                            ^\u001b[0m\n\u001b[1;31mSyntaxError\u001b[0m\u001b[1;31m:\u001b[0m unterminated string literal (detected at line 30)\n"
     ]
    }
   ],
   "source": [
    "import re\n",
    "\n",
    "testo = \"\"\"Ed è proprio da questa portentosa crema che nasce la crema al mascarpone\n",
    "base del tiramisù, prima classificata al premio Crema dell'Anno insieme\n",
    "alla nutella. Il dolce italiano per eccellenza, quello più famoso e amato,\n",
    "ma soprattutto che ha dato vita a tantissime altre versioni, anche tiramisù senza uova!\n",
    "Poi il Tiramisù alle fragole o quello alla Nutella, giusto per citarne un paio!\n",
    "Senza contare le rivisitazioni più raffinate come la crostata morbida o la torta al tiramisù.\n",
    "\"\"\"\n",
    "\n",
    "#parola_malefica1 = \"Tiramisù\"\n",
    "#parola_malefica2 = \"nutella\"\n",
    "\n",
    "parole_malefiche = {'Tiramisù','nutella'}\n",
    "\n",
    "censura = \"******\"\n",
    "\n",
    "testo_censurato = conta_censure = re.subn('|'.join(parole_malefiche), censura, testo,)\n",
    "n_parole_censurate = 0\n",
    "# scrivi qui\n",
    "\n",
    "patrtern = r'Tiramisù nutella'\n",
    "patrtern = '|'.join(parole_malefiche)\n",
    "\n",
    "testo_censura = re.sub(parola_malefica, censura, testo_)'\n",
    "\n",
    "for parola_malefica in parole_malefiche:\n",
    "    testo_censurato =re.sub(parole_malefiche, censura,testo_censurato, flags=re.IGNORECASE)\n",
    "\n",
    "print('censurato'sep=)    \n",
    "print(testo_censurato)\n",
    "\n",
    "\n",
    "print(patrtern)\n",
    "\n",
    "\n",
    " \n"
   ]
  },
  {
   "cell_type": "code",
   "execution_count": 37,
   "metadata": {},
   "outputs": [
    {
     "data": {
      "text/plain": [
       "'Pippo Pluto,Altro'"
      ]
     },
     "execution_count": 37,
     "metadata": {},
     "output_type": "execute_result"
    }
   ],
   "source": [
    "'pippo pluto,altro'.title()"
   ]
  }
 ],
 "metadata": {
  "kernelspec": {
   "display_name": "Python 3",
   "language": "python",
   "name": "python3"
  },
  "language_info": {
   "codemirror_mode": {
    "name": "ipython",
    "version": 3
   },
   "file_extension": ".py",
   "mimetype": "text/x-python",
   "name": "python",
   "nbconvert_exporter": "python",
   "pygments_lexer": "ipython3",
   "version": "3.11.2"
  },
  "orig_nbformat": 4
 },
 "nbformat": 4,
 "nbformat_minor": 2
}
