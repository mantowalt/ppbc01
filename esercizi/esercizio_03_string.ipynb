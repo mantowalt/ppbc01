{
 "cells": [
  {
   "attachments": {},
   "cell_type": "markdown",
   "metadata": {},
   "source": [
    "## Esercizio - Censura al tiramisù\n",
    " \n",
    "Ci è stato inviato un testo illegale, immorale e che fa pure ingrassare. \n",
    "Per tutelare la pubblica salute abbiamo l'arduo compito di censurarlo e \n",
    "renderlo consono al buon costume.\n",
    " \n",
    "1) E' necessario sostituire OGNI occorrenza delle due parole malefiche con una  più salubre censura, trasformando il testo in modo che la print  di testo_censurato non contenga nessuna parola incriminata.\n",
    "\n",
    "Esempio:\n",
    "\n",
    "```python\n",
    "testo= \"Grazie all'uso di Cera Splendent tutto brilla!\"\n",
    "parola_malefica = \"splendent\"\n",
    "censura = \"******\"\n",
    "testo_censurato: \"Grazie all'uso di Cera ****** tutto brilla!\"\n",
    "```\n",
    "\n",
    "2) Per scrivere il nostro rapporto di censori dobbiamo rendere conto di quante parole abbiamo censurato. Stampare alla fine il numero (ovviamente in maniera automatica ), per esempio:\n",
    "\n",
    "```\n",
    "\"Censurata 1 parola\"\n",
    "```"
   ]
  },
  {
   "cell_type": "code",
   "execution_count": null,
   "metadata": {},
   "outputs": [],
   "source": [
    "testo = \"\"\"Ed è proprio da questa portentosa crema che nasce la crema al mascarpone\n",
    "base del tiramisù, prima classificata al premio Crema dell'Anno insieme\n",
    "alla nutella. Il dolce italiano per eccellenza, quello più famoso e amato,\n",
    "ma soprattutto che ha dato vita a tantissime altre versioni, anche tiramisù senza uova!\n",
    "Poi il Tiramisù alle fragole o quello alla Nutella, giusto per citarne un paio!\n",
    "Senza contare le rivisitazioni più raffinate come la crostata morbida o la torta al tiramisù.\n",
    "\"\"\"\n",
    "\n",
    "parola_malefica1 = \"Tiramisù\"\n",
    "parola_malefica2 = \"nutella\"\n",
    "\n",
    "censura = \"******\"\n",
    "\n",
    "testo_censurato = ''\n",
    "\n",
    "# scrivi qui\n"
   ]
  },
  {
   "cell_type": "code",
   "execution_count": null,
   "metadata": {},
   "outputs": [],
   "source": []
  },
  {
   "cell_type": "code",
   "execution_count": 11,
   "metadata": {},
   "outputs": [
    {
     "ename": "ValueError",
     "evalue": "too many values to unpack (expected 2)",
     "output_type": "error",
     "traceback": [
      "\u001b[1;31m---------------------------------------------------------------------------\u001b[0m",
      "\u001b[1;31mValueError\u001b[0m                                Traceback (most recent call last)",
      "Cell \u001b[1;32mIn[11], line 29\u001b[0m\n\u001b[0;32m     22\u001b[0m \u001b[39m# scrivi qui\u001b[39;00m\n\u001b[0;32m     23\u001b[0m \u001b[39m# for parola_malefica in parole_malefiche:\u001b[39;00m\n\u001b[0;32m     24\u001b[0m     \u001b[39m# testo_censurato = re.sub(parola_malefica, censura, testo_censurato, flags=re.IGNORECASE)\u001b[39;00m\n\u001b[0;32m     25\u001b[0m \n\u001b[0;32m     26\u001b[0m \u001b[39m# pattern = 'Tiramisù/nutella'\u001b[39;00m\n\u001b[0;32m     28\u001b[0m pattern \u001b[39m=\u001b[39m\u001b[39m'\u001b[39m\u001b[39m/\u001b[39m\u001b[39m'\u001b[39m\u001b[39m.\u001b[39mjoin(parole_malefiche)\n\u001b[1;32m---> 29\u001b[0m testo_censurato, n_parole_censurate \u001b[39m=\u001b[39m re\u001b[39m.\u001b[39msub(parola_malefica, censura, testo_censurato, flags\u001b[39m=\u001b[39mre\u001b[39m.\u001b[39mIGNORECASE)\n\u001b[0;32m     31\u001b[0m \u001b[39mprint\u001b[39m(\u001b[39m'\u001b[39m\u001b[39mcensurata\u001b[39m\u001b[39m'\u001b[39m, n_parole_censurate, \u001b[39m'\u001b[39m\u001b[39mparola\u001b[39m\u001b[39m'\u001b[39m)\n\u001b[0;32m     32\u001b[0m \u001b[39mprint\u001b[39m(testo_censurato)\n",
      "\u001b[1;31mValueError\u001b[0m: too many values to unpack (expected 2)"
     ]
    }
   ],
   "source": [
    "import re\n",
    "testo = \"\"\"Ed è proprio da questa portentosa crema che nasce la crema al mascarpone\n",
    "base del tiramisù, prima classificata al premio Crema dell'Anno insieme\n",
    "alla nutella. Il dolce italiano per eccellenza, quello più famoso e amato,\n",
    "ma soprattutto che ha dato vita a tantissime altre versioni, anche tiramisù senza uova!\n",
    "Poi il Tiramisù alle fragole o quello alla Nutella, giusto per citarne un paio!\n",
    "Senza contare le rivisitazioni più raffinate come la crostata morbida o la torta al tiramisù.\n",
    "\"\"\"\n",
    "\n",
    "#parola_malefica1 = \"Tiramisù\"\n",
    "#parola_malefica2 = \"nutella\"\n",
    "\n",
    "parole_malefiche = (\"Tiramisù\", \"nutella\")\n",
    "\n",
    "\n",
    "\n",
    "censura = \"******\"\n",
    "\n",
    "testo_censurato = testo\n",
    "n_parole_censurate = 0\n",
    "\n",
    "# scrivi qui\n",
    "# for parola_malefica in parole_malefiche:\n",
    "    # testo_censurato = re.sub(parola_malefica, censura, testo_censurato, flags=re.IGNORECASE)\n",
    "\n",
    "# pattern = 'Tiramisù/nutella'\n",
    "  \n",
    "pattern ='/'.join(parole_malefiche)\n",
    "testo_censurato, n_parole_censurate = re.sub(parola_malefica, censura, testo_censurato, flags=re.IGNORECASE)\n",
    "\n",
    "msg1 = 'censurata' if n_parole_censurate == 1 else 'censurate', n_parole_censurate,\n",
    "print('censurata', n_parole_censurate, 'parola')\n",
    "print(testo_censurato)\n",
    "                         \n",
    "\n"
   ]
  }
 ],
 "metadata": {
  "kernelspec": {
   "display_name": "Python 3",
   "language": "python",
   "name": "python3"
  },
  "language_info": {
   "codemirror_mode": {
    "name": "ipython",
    "version": 3
   },
   "file_extension": ".py",
   "mimetype": "text/x-python",
   "name": "python",
   "nbconvert_exporter": "python",
   "pygments_lexer": "ipython3",
   "version": "3.11.2"
  },
  "orig_nbformat": 4
 },
 "nbformat": 4,
 "nbformat_minor": 2
}
