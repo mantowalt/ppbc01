{
 "cells": [
  {
   "attachments": {},
   "cell_type": "markdown",
   "metadata": {},
   "source": [
    "## Esercizio - Censura al tiramisù\n",
    " \n",
    "Ci è stato inviato un testo illegale, immorale e che fa pure ingrassare. \n",
    "Per tutelare la pubblica salute abbiamo l'arduo compito di censurarlo e \n",
    "renderlo consono al buon costume.\n",
    " \n",
    "1) E' necessario sostituire OGNI occorrenza delle due parole malefiche con una  più salubre censura, trasformando il testo in modo che la print  di testo_censurato non contenga nessuna parola incriminata.\n",
    "\n",
    "Esempio:\n",
    "\n",
    "```python\n",
    "testo= \"Grazie all'uso di Cera Splendent tutto brilla!\"\n",
    "parola_malefica = \"splendent\"\n",
    "censura = \"******\"\n",
    "testo_censurato: \"Grazie all'uso di Cera ****** tutto brilla!\"\n",
    "```\n",
    "\n",
    "2) Per scrivere il nostro rapporto di censori dobbiamo rendere conto di quante parole abbiamo censurato. Stampare alla fine il numero (ovviamente in maniera automatica ), per esempio:\n",
    "\n",
    "```\n",
    "\"Censurata 1 parola\"\n",
    "```"
   ]
  },
  {
   "cell_type": "code",
   "execution_count": 12,
   "metadata": {},
   "outputs": [
    {
     "name": "stdout",
     "output_type": "stream",
     "text": [
      "censurate 6 parole.\n"
     ]
    }
   ],
   "source": [
    "import re\n",
    "\n",
    "testo = \"\"\"Ed è proprio da questa portentosa crema che nasce la crema al mascarpone\n",
    "base del tiramisù, prima classificata al premio Crema dell'Anno insieme\n",
    "alla nutella. Il dolce italiano per eccellenza, quello più famoso e amato,\n",
    "ma soprattutto che ha dato vita a tantissime altre versioni, anche tiramisù senza uova!\n",
    "Poi il Tiramisù alle fragole o quello alla Nutella, giusto per citarne un paio!\n",
    "Senza contare le rivisitazioni più raffinate come la crostata morbida o la torta al tiramisù.\n",
    "\"\"\"\n",
    "\n",
    "parola_malefica1 = \"Tiramisù\"\n",
    "parola_malefica2 = \"nutella\"\n",
    "parole_malefiche= {'Tiramisù', 'nutella'}\n",
    "censura = \"******\"\n",
    "testo_censurato = testo\n",
    "# scrivi qui\n",
    "#for parola_malefica in parole_malefiche:\n",
    "#    testo_censurato = re.sub( parola_malefica, censura, testo_censurato, flags= re.IGNORECASE)\n",
    "#print(testo_censurato)\n",
    "\n",
    "#pattern = 'Tiramisù|nutella'\n",
    "pattern = '|'.join(parole_malefiche)\n",
    "testo_censurato, n_count= re.subn(pattern,censura,testo_censurato, flags=re.IGNORECASE)\n",
    "\n",
    "suff = 'a' if n_count == 1 else 'e'\n",
    "\n",
    "print('censurat%s' % suff,\n",
    "      n_count,\n",
    "      'parol%s.' % suff)"
   ]
  }
 ],
 "metadata": {
  "kernelspec": {
   "display_name": "Python 3",
   "language": "python",
   "name": "python3"
  },
  "language_info": {
   "codemirror_mode": {
    "name": "ipython",
    "version": 3
   },
   "file_extension": ".py",
   "mimetype": "text/x-python",
   "name": "python",
   "nbconvert_exporter": "python",
   "pygments_lexer": "ipython3",
   "version": "3.10.0"
  },
  "orig_nbformat": 4
 },
 "nbformat": 4,
 "nbformat_minor": 2
}
