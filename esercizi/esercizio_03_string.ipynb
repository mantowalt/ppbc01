{
 "cells": [
  {
   "attachments": {},
   "cell_type": "markdown",
   "metadata": {},
   "source": [
    "## Esercizio - Censura al tiramisù\n",
    " \n",
    "Ci è stato inviato un testo illegale, immorale e che fa pure ingrassare. \n",
    "Per tutelare la pubblica salute abbiamo l'arduo compito di censurarlo e \n",
    "renderlo consono al buon costume.\n",
    " \n",
    "1) E' necessario sostituire OGNI occorrenza delle due parole malefiche con una  più salubre censura, trasformando il testo in modo che la print  di testo_censurato non contenga nessuna parola incriminata.\n",
    "\n",
    "Esempio:\n",
    "\n",
    "```python\n",
    "testo= \"Grazie all'uso di Cera Splendent tutto brilla!\"\n",
    "parola_malefica = \"splendent\"\n",
    "censura = \"******\"\n",
    "testo_censurato: \"Grazie all'uso di Cera ****** tutto brilla!\"\n",
    "```\n",
    "\n",
    "2) Per scrivere il nostro rapporto di censori dobbiamo rendere conto di quante parole abbiamo censurato. Stampare alla fine il numero (ovviamente in maniera automatica ), per esempio:\n",
    "\n",
    "```\n",
    "\"Censurata 1 parola\"\n",
    "```"
   ]
  },
  {
   "attachments": {},
   "cell_type": "markdown",
   "metadata": {},
   "source": [
    "- contare quante volte compaiono le parole\n"
   ]
  },
  {
   "cell_type": "code",
   "execution_count": 33,
   "metadata": {},
   "outputs": [
    {
     "name": "stdout",
     "output_type": "stream",
     "text": [
      "['nutella', 'tiramisù']\n",
      "Censurata 1 parola\n",
      "Ed è proprio da questa portentosa crema che nasce la crema al mascarpone\n",
      "base del ******, prima classificata al premio Crema dell'Anno insieme\n",
      "alla ******. Il dolce italiano per eccellenza, quello più famoso e amato,\n",
      "ma soprattutto che ha dato vita a tantissime altre versioni, anche ****** senza uova!\n",
      "Poi il TirAmisù alle fragole o quello alla ******, giusto per citarne un paio!\n",
      "Senza contare le rivisitazioni più raffinate come la crostata morbida o la torta al ******.\n",
      "\n"
     ]
    }
   ],
   "source": [
    "testo = \"\"\"Ed è proprio da questa portentosa crema che nasce la crema al mascarpone\n",
    "base del tiramisù, prima classificata al premio Crema dell'Anno insieme\n",
    "alla nutella. Il dolce italiano per eccellenza, quello più famoso e amato,\n",
    "ma soprattutto che ha dato vita a tantissime altre versioni, anche tiramisù senza uova!\n",
    "Poi il TirAmisù alle fragole o quello alla Nutella, giusto per citarne un paio!\n",
    "Senza contare le rivisitazioni più raffinate come la crostata morbida o la torta al tiramisù.\n",
    "\"\"\"\n",
    "\n",
    "# parola_malefica1 = \"Tiramisù\"\n",
    "# parola_malefica2 = \"nutella\"\n",
    "\n",
    "parole_malefiche = {'Tiramisù', 'nutella'}\n",
    "parole_malefiche_ok = []\n",
    "\n",
    "for pm in parole_malefiche:\n",
    "    parole_malefiche_ok.append(pm.lower())\n",
    "\n",
    "print(parole_malefiche_ok)\n",
    "\n",
    "censura = \"******\"\n",
    "\n",
    "testo_censurato = testo\n",
    "n_parole_censurate = 0\n",
    "# scrivi qui\n",
    "\n",
    "for parola_malefica in parole_malefiche_ok:\n",
    "    testo_censurato = testo_censurato.replace(parola_malefica, censura)\n",
    "    testo_censurato = testo_censurato.replace(parola_malefica.title(), censura)\n",
    "\n",
    "n_parole_censurate += testo_censurato.count(censura)\n",
    "\n",
    "suff = 'a' if n_parole_censurate == 1 else 'e'\n",
    "\n",
    "print(\n",
    "    'Censurat%s' % suff,\n",
    "    n_parole_censurate,\n",
    "    'parol%s' % suff\n",
    ")\n",
    "print(testo_censurato)\n"
   ]
  }
 ],
 "metadata": {
  "kernelspec": {
   "display_name": "Python 3",
   "language": "python",
   "name": "python3"
  },
  "language_info": {
   "codemirror_mode": {
    "name": "ipython",
    "version": 3
   },
   "file_extension": ".py",
   "mimetype": "text/x-python",
   "name": "python",
   "nbconvert_exporter": "python",
   "pygments_lexer": "ipython3",
   "version": "3.10.0"
  },
  "orig_nbformat": 4
 },
 "nbformat": 4,
 "nbformat_minor": 2
}
