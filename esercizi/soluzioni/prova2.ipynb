{
 "cells": [
  {
   "cell_type": "code",
   "execution_count": 47,
   "metadata": {},
   "outputs": [
    {
     "name": "stdout",
     "output_type": "stream",
     "text": [
      "3030\n",
      "361\n",
      "35\n"
     ]
    }
   ],
   "source": [
    "import json\n",
    "# from pprint import pprint\n",
    "\n",
    "tot_annoinizio = 0              # contattore attivita' con anno inizio dopo del 2010\n",
    "tot_superficie = 0              # contattore attivita' con mq >= 150 mq\n",
    "tot_cap=0                       # contattore attivita' dentro di zona CAP 10126, \n",
    "\n",
    "with open('../../files_esercizi/Comune-di-Torino---Attivita-commerciali.json',\n",
    "          encoding='latin-1') as file_in:\n",
    "    json_list = json.load(file_in)           # ottengo una lista di dizionari, uno per cisascun record\n",
    "    for rec in json_list:\n",
    "        #print(rec)\n",
    "        \n",
    "        if int(rec [\"Anno inizio attivita\"]) > 2010:\n",
    "            tot_annoinizio += 1\n",
    "            if rec [\"Mq tot locale\"] != \".\":\n",
    "                if int(rec [\"Mq tot locale\"]) >= 150:\n",
    "                    tot_superficie +=1\n",
    "                    if int(rec [\"Cap\"]) in [10126, 10127, 10134]:\n",
    "                        tot_cap += 1\n",
    "\n",
    "print(tot_annoinizio)\n",
    "print(tot_superficie)\n",
    "print(tot_cap)\n",
    " "
   ]
  }
 ],
 "metadata": {
  "kernelspec": {
   "display_name": ".venv",
   "language": "python",
   "name": "python3"
  },
  "language_info": {
   "codemirror_mode": {
    "name": "ipython",
    "version": 3
   },
   "file_extension": ".py",
   "mimetype": "text/x-python",
   "name": "python",
   "nbconvert_exporter": "python",
   "pygments_lexer": "ipython3",
   "version": "3.10.0"
  },
  "orig_nbformat": 4
 },
 "nbformat": 4,
 "nbformat_minor": 2
}
