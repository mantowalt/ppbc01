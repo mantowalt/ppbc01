{
 "cells": [
  {
   "attachments": {},
   "cell_type": "markdown",
   "metadata": {},
   "source": [
    "## Esercizio - Guardaroba\n",
    "\n",
    "Produrre una sequenza di stringhe combinando due di input.\n",
    "\n",
    "- **NON** usare `range`\n",
    "- **USA UNA** sola list comprehension\n",
    "- il tuo codice deve stare in una riga sola\n",
    "\n",
    "Esempio - data:\n",
    "\n",
    "```python\n",
    "indumenti = ['cappotti', 'giacconi', 'mantelli', 'ventine']\n",
    "capi = [9,5,7,3]\n",
    "```\n",
    "\n",
    "Il tuo codice deve produrre:\n",
    "\n",
    "```python\n",
    "['ci sono 9 cappotti', 'ci sono 5 giacconi', 'ci sono 7 mantelli', \n",
    " 'ci sono 3 ventine']\n",
    "```"
   ]
  },
  {
   "cell_type": "markdown",
   "metadata": {},
   "source": [
    "## Tuo svolgimento"
   ]
  },
  {
   "cell_type": "code",
   "execution_count": null,
   "metadata": {},
   "outputs": [],
   "source": [
    "indumenti = ['cappotti', 'giacconi', 'mantelli', 'ventine']\n",
    "capi = [9,5,7,3]\n",
    "\n",
    "# scrivi qui\n"
   ]
  },
  {
   "cell_type": "markdown",
   "metadata": {},
   "source": [
    "# --------- Soluzioni ---------"
   ]
  },
  {
   "cell_type": "code",
   "execution_count": null,
   "metadata": {},
   "outputs": [
    {
     "data": {
      "text/plain": [
       "['ci sono 9 cappotti',\n",
       " 'ci sono 5 giacconi',\n",
       " 'ci sono 7 mantelli',\n",
       " 'ci sono 3 ventine']"
      ]
     },
     "metadata": {},
     "output_type": "display_data"
    }
   ],
   "source": [
    "indumenti = ['cappotti', 'giacconi', 'mantelli', 'ventine']\n",
    "capi = [9, 5, 7, 3]\n",
    "\n",
    "['ci sono %s %s' % elem for elem in zip(capi, indumenti)]\n",
    "# [f'ci sono {elem[1]} {elem[0]}' for elem in zip(indumenti, capi)]"
   ]
  }
 ],
 "metadata": {
  "language_info": {
   "name": "python"
  },
  "orig_nbformat": 4
 },
 "nbformat": 4,
 "nbformat_minor": 2
}
