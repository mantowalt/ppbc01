{
 "cells": [
  {
   "attachments": {},
   "cell_type": "markdown",
   "metadata": {},
   "source": [
    "## Esercizio - Il drago Smaug\n",
    "\n",
    "Trova UNA SOLA stringa che stampata con `print` venga mostrata (all'incirca) come la seguente:\n",
    "\n",
    "```\n",
    "________________~----~______________\n",
    "////            Storia\t\t    \\\\\\\\\n",
    "Il      cavaliere\n",
    "\t    affronta\n",
    "\n",
    "\t    il      drago   'Smaug' davanti\n",
    "\t\t        al       castello\n",
    "\n",
    "```\n",
    "\n",
    "- inizia e concludi la stringa con apice singolo\n",
    "\n",
    "- **USA SOLO** combinazioni di `\\t` e `\\n`\n",
    "- **NON** usare spazi\n",
    "- **NOTA**: usando i tab potresti vedere risultati diversi a seconda dell'editor che stai usando, quindi puoi solo sperare di ottenere un risultato simile a quello proposto."
   ]
  },
  {
   "cell_type": "code",
   "execution_count": 7,
   "metadata": {},
   "outputs": [
    {
     "name": "stdout",
     "output_type": "stream",
     "text": [
      "________________~----~______________\n",
      "////\t\tStoria\t\t\\\\\\\n",
      "\n"
     ]
    }
   ],
   "source": [
    "s = '________________~----~______________\\n////\\t\\tStoria\\t\\t\\\\\\\\\\\\\\n'\n",
    "\n",
    "#Il      cavaliere\n",
    "#\t    affronta\n",
    "#\n",
    "#\t    il      drago   'Smaug' davanti\n",
    "#\t\t        al       castello'\n",
    "\n",
    "print(s)"
   ]
  }
 ],
 "metadata": {
  "kernelspec": {
   "display_name": "Python 3",
   "language": "python",
   "name": "python3"
  },
  "language_info": {
   "codemirror_mode": {
    "name": "ipython",
    "version": 3
   },
   "file_extension": ".py",
   "mimetype": "text/x-python",
   "name": "python",
   "nbconvert_exporter": "python",
   "pygments_lexer": "ipython3",
   "version": "3.10.0"
  },
  "orig_nbformat": 4
 },
 "nbformat": 4,
 "nbformat_minor": 2
}
